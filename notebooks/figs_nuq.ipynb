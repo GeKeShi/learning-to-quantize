{
 "cells": [
  {
   "cell_type": "code",
   "execution_count": 13,
   "metadata": {},
   "outputs": [],
   "source": [
    "import torch\n",
    "from torch.autograd import Variable\n",
    "import numpy as np\n",
    "import pylab as plt\n",
    "%matplotlib inline\n",
    "import torchvision.utils as vutils\n",
    "import glob"
   ]
  },
  {
   "cell_type": "code",
   "execution_count": 14,
   "metadata": {},
   "outputs": [],
   "source": [
    "from scipy import interpolate"
   ]
  },
  {
   "cell_type": "code",
   "execution_count": 15,
   "metadata": {},
   "outputs": [
    {
     "data": {
      "text/plain": [
       "['__name__',\n",
       " '__doc__',\n",
       " '__package__',\n",
       " '__loader__',\n",
       " '__spec__',\n",
       " '__path__',\n",
       " '__file__',\n",
       " '__cached__',\n",
       " '__builtins__',\n",
       " 'division',\n",
       " 'print_function',\n",
       " 'absolute_import',\n",
       " '_fitpack',\n",
       " 'dfitpack',\n",
       " '_fitpack_impl',\n",
       " '_bspl',\n",
       " '_bsplines',\n",
       " 'fitpack',\n",
       " 'polyint',\n",
       " '_ppoly',\n",
       " 'fitpack2',\n",
       " 'interpnd',\n",
       " 'interpolate',\n",
       " 'interp1d',\n",
       " 'interp2d',\n",
       " 'spline',\n",
       " 'spleval',\n",
       " 'splmake',\n",
       " 'spltopp',\n",
       " 'lagrange',\n",
       " 'PPoly',\n",
       " 'BPoly',\n",
       " 'NdPPoly',\n",
       " 'RegularGridInterpolator',\n",
       " 'interpn',\n",
       " 'splrep',\n",
       " 'splprep',\n",
       " 'splev',\n",
       " 'splint',\n",
       " 'sproot',\n",
       " 'spalde',\n",
       " 'bisplrep',\n",
       " 'bisplev',\n",
       " 'insert',\n",
       " 'splder',\n",
       " 'splantider',\n",
       " 'UnivariateSpline',\n",
       " 'InterpolatedUnivariateSpline',\n",
       " 'LSQUnivariateSpline',\n",
       " 'BivariateSpline',\n",
       " 'LSQBivariateSpline',\n",
       " 'SmoothBivariateSpline',\n",
       " 'LSQSphereBivariateSpline',\n",
       " 'SmoothSphereBivariateSpline',\n",
       " 'RectBivariateSpline',\n",
       " 'RectSphereBivariateSpline',\n",
       " 'rbf',\n",
       " 'Rbf',\n",
       " 'KroghInterpolator',\n",
       " 'krogh_interpolate',\n",
       " 'BarycentricInterpolator',\n",
       " 'barycentric_interpolate',\n",
       " 'approximate_taylor_polynomial',\n",
       " '_cubic',\n",
       " 'PchipInterpolator',\n",
       " 'pchip_interpolate',\n",
       " 'pchip',\n",
       " 'Akima1DInterpolator',\n",
       " 'CubicSpline',\n",
       " 'ndgriddata',\n",
       " 'griddata',\n",
       " 'NearestNDInterpolator',\n",
       " 'LinearNDInterpolator',\n",
       " 'CloughTocher2DInterpolator',\n",
       " 'BSpline',\n",
       " 'make_interp_spline',\n",
       " 'make_lsq_spline',\n",
       " '_pade',\n",
       " 'pade',\n",
       " '__all__',\n",
       " 'test']"
      ]
     },
     "execution_count": 15,
     "metadata": {},
     "output_type": "execute_result"
    }
   ],
   "source": [
    "interpolate.__dir__()"
   ]
  },
  {
   "cell_type": "code",
   "execution_count": 16,
   "metadata": {},
   "outputs": [],
   "source": [
    "import sys\n",
    "sys.path.append('../')\n",
    "import models\n",
    "import models.mnist\n",
    "from data import get_loaders\n",
    "from utils import DictWrapper"
   ]
  },
  {
   "cell_type": "code",
   "execution_count": 17,
   "metadata": {},
   "outputs": [
    {
     "name": "stdout",
     "output_type": "stream",
     "text": [
      "The autoreload extension is already loaded. To reload it, use:\n",
      "  %reload_ext autoreload\n"
     ]
    }
   ],
   "source": [
    "%load_ext autoreload\n",
    "%autoreload 1"
   ]
  },
  {
   "cell_type": "code",
   "execution_count": 18,
   "metadata": {
    "scrolled": true
   },
   "outputs": [],
   "source": [
    "%aimport log_plotter\n",
    "from log_plotter import get_run_names, get_data_pth, plot_smooth, plot_tag, plot_runs_and_tags, get_legend, plot_smooth_o1"
   ]
  },
  {
   "cell_type": "code",
   "execution_count": 19,
   "metadata": {},
   "outputs": [],
   "source": [
    "no_title = True\n",
    "save_single = True\n",
    "import matplotlib\n",
    "matplotlib.rcParams['pdf.fonttype'] = 42  # 3\n",
    "matplotlib.rcParams['ps.fonttype'] = 42  # 3\n",
    "\n",
    "plt.rcParams.update({'font.size': 12})"
   ]
  },
  {
   "cell_type": "code",
   "execution_count": 20,
   "metadata": {},
   "outputs": [],
   "source": [
    "no_title = False\n",
    "save_single = False\n",
    "import matplotlib\n",
    "matplotlib.rcParams['pdf.fonttype'] = 3\n",
    "matplotlib.rcParams['ps.fonttype'] = 3"
   ]
  },
  {
   "cell_type": "markdown",
   "metadata": {},
   "source": [
    "# MNIST bucket 1024"
   ]
  },
  {
   "cell_type": "code",
   "execution_count": null,
   "metadata": {},
   "outputs": [],
   "source": []
  },
  {
   "cell_type": "code",
   "execution_count": 10,
   "metadata": {},
   "outputs": [
    {
     "ename": "SyntaxError",
     "evalue": "EOL while scanning string literal (<ipython-input-10-2ec6a98882ca>, line 8)",
     "output_type": "error",
     "traceback": [
      "\u001b[0;36m  File \u001b[0;32m\"<ipython-input-10-2ec6a98882ca>\"\u001b[0;36m, line \u001b[0;32m8\u001b[0m\n\u001b[0;31m    patterns = ['.*runs_cifar10_full/ms_.*g_osnap_iter_1000,.*dist_num_20,.*nuq\u001b[0m\n\u001b[0m                                                                               ^\u001b[0m\n\u001b[0;31mSyntaxError\u001b[0m\u001b[0;31m:\u001b[0m EOL while scanning string literal\n"
     ]
    }
   ],
   "source": [
    "get_data_f = get_data_pth\n",
    "# plot_f = plt.plot\n",
    "plot_f = plot_smooth_o1\n",
    "logdir = '/h/iman/Code/nuqsgd/runs'\n",
    "\n",
    "#patterns = ['.*runs_cifar10_full/(sgd_00\\d.*resnet32|uoptim2_.*resnet32.*nuq_bits_4.*nuq_bucket_size_65536.*nuq_method_(qinf|nuq3|nuq5|none).*nuq_layer_(1))']  # (?!.*scheduler)\n",
    "# patterns = ['.*runs_imagenet_full/f90_']  # (?!.*scheduler)\n",
    "patterns = ['.*runs_cifar10_full/ms_.*g_osnap_iter_1000,.*dist_num_20,.*nuq"
   ]
  },
  {
   "cell_type": "code",
   "execution_count": null,
   "metadata": {},
   "outputs": [],
   "source": [
    "get_data_f = get_data_pth\n",
    "# plot_f = plt.plot\n",
    "plot_f = plot_smooth_o1\n",
    "logdir = '/h/iman/Code/nuqsgd/runs'\n",
    "\n",
    "#patterns = ['.*runs_cifar10_full/(sgd_00\\d.*resnet32|uoptim2_.*resnet32.*nuq_bits_4.*nuq_bucket_size_65536.*nuq_method_(qinf|nuq3|nuq5|none).*nuq_layer_(1))']  # (?!.*scheduler)\n",
    "# patterns = ['.*runs_imagenet_full/f90_']  # (?!.*scheduler)\n",
    "# patterns = ['.*runs_cifar10_full/ms_.*g_osnap_iter_1000,.*dist_num_20,.*nuq_method_(qinf|nuq)']\n",
    "patterns = ['.*runs_cifar10_full/.*cf(2|m|)g_.*nuq_bits_4.*bucket_size_16.*nuq_method_(amq_nb|alq|alq_nb).*']\n",
    "\n",
    "# patterns = ['.*runs_cifar10_full/cifar_.*resnet32.*nuq_bits_4.*']\n",
    "# tag_names = ['est_var', 'est_nvar', 'Vacc', 'loss', 'Vloss', 'co_error', 'grad_bias', 'levels/1']  # 'lr', 'gb_td', 'grad_bias',\n",
    "tag_names = ['est_var', 'nb_error', 'Tloss', 'Tacc']  # 'lr', 'gb_td', 'grad_bias',\n",
    "\n",
    "fig_name = 'figs_nuq/resnet32.png'\n",
    "lg_tags = ['estim_sgd', 'nuq_method', 'nuq_sym']  # , 'ngpu', 'bits', 'mul', 'bucket_size'\n",
    "ylim = [None]*20\n",
    "# ylim = [None]*2 + [[80, 100], [80, 100], [1e-7, 1], None]\n",
    "# ylim = [[.2e-4, 1e-4], [0, 1.5e-7], [-1, 0.1], None, [98, 100], [98, 100], None, None]\n",
    "# ylim = [[1e-4, 1e-1], [1e-2, 1e-1], [98, 100], [97,100], [0, 100], None, None, None, None, None, None, None, None, None, None, None, None]\n",
    "sep_h = False\n",
    "save_single = True\n",
    "ncolor = 4\n",
    "lg_replace = [ ('estim_sgd', 'SGD'), ('ngpu_', 'GPU='), ('nuq_method', ''), ('_q', 'Q'), ('nuq_inv_', 'Inv'), ('nuq_sym', 'Sym'), ('_amq_nb', 'AMQ NB'), ('_amq', 'AMQ NL'), ('_alq_nb', 'ALQ NB'), ('_alq', 'ALQ NL'), ('_qinf', 'Qinf'), ('kfac', 'K-FAC'), ('SGD,K-FAC', 'K-FAC'), ('estim_ntk', 'NTK'), ('adamw', 'AdamW'), ('adam', 'Adam'), ('lr_', 'LR='), ('LR=0.001', 'LR=1e-3'), ('LR=0.0001', 'LR=1e-4'), ('LR=0.0005', 'LR=5e-4'), ('LR=0.0002', 'LR=2e-4'), ('batch_size_', 'bs='), ('optim_start_', 'Start='), ('damping_', '$\\epsilon=$'), ('_l2q', 'L2Q'), ('_none', 'SuperSGD'), ('nuq_layer_1', 'w/o layers'), ('nuq_layer_0', 'w/ layers'),('_nuq', 'NUQ')]\n",
    "data, run_names = plot_runs_and_tags(get_data_f, plot_f, logdir, patterns, tag_names, fig_name, lg_tags, ylim, sep_h=sep_h, ncolor=ncolor, lg_replace=lg_replace, save_single=save_single)"
   ]
  },
  {
   "cell_type": "code",
   "execution_count": 10,
   "metadata": {},
   "outputs": [],
   "source": [
    "get_data_f = get_data_pth\n",
    "# plot_f = plt.plot\n",
    "plot_f = plot_smooth_o1\n",
    "logdir = '/u/faghri/nuq/runs/'\n",
    "patterns = ['.*runs_mnist_nuq/(00|.*bucket_size_4096)']  # (?!.*scheduler)\n",
    "tag_names = ['est_var', 'est_nvar', 'Tacc', 'Vacc', 'Tloss', 'Vloss']  # 'lr', 'gb_td', 'grad_bias',\n",
    "fig_name = 'figs_nuq/mnist.png'\n",
    "lg_tags = ['estim_sgd', 'nuq_method', 'ngpu']  # , 'ngpu', 'bits', 'mul', 'bucket_size'\n",
    "ylim = [None]*20\n",
    "# ylim = [None]*2 + [[80, 100], [80, 100], [1e-7, 1], None]\n",
    "# ylim = [[.2e-4, 1e-4], [0, 1.5e-7], [-1, 0.1], None, [98, 100], [98, 100], None, None]\n",
    "# ylim = [[1e-4, 1e-1], [1e-2, 1e-1], [98, 100], [97,100], [0, 100], None, None, None, None, None, None, None, None, None, None, None, None]\n",
    "sep_h = True\n",
    "ncolor = 4\n",
    "lg_replace = [('estim_sgd', 'SGD'), ('ngpu_', ',GPU='), ('nuq_method', ''), ('_q', 'Q'), ('_nuq', 'NUQ'), ('_qinf', 'Qinf'), ('kfac', 'K-FAC'), ('SGD,K-FAC', 'K-FAC'), ('estim_ntk', 'NTK'), ('adamw', 'AdamW'), ('adam', 'Adam'), ('lr_', 'LR='), ('LR=0.001', 'LR=1e-3'), ('LR=0.0001', 'LR=1e-4'), ('LR=0.0005', 'LR=5e-4'), ('LR=0.0002', 'LR=2e-4'), ('batch_size_', 'bs='), ('optim_start_', 'Start='), ('damping_', '$\\epsilon=$')]\n",
    "data, run_names = plot_runs_and_tags(get_data_f, plot_f, logdir, patterns, tag_names, fig_name, lg_tags, ylim, sep_h=sep_h, ncolor=ncolor, lg_replace=lg_replace)"
   ]
  },
  {
   "cell_type": "markdown",
   "metadata": {},
   "source": [
    "# MNIST bucket 8196"
   ]
  },
  {
   "cell_type": "code",
   "execution_count": 11,
   "metadata": {},
   "outputs": [],
   "source": [
    "get_data_f = get_data_pth\n",
    "# plot_f = plt.plot\n",
    "plot_f = plot_smooth_o1\n",
    "logdir = '/u/faghri/nuq/runs/'\n",
    "patterns = ['.*runs_mnist_nuq/(00|.*bucket_size_8192)']  # (?!.*scheduler)\n",
    "tag_names = ['est_var', 'est_nvar', 'Tacc', 'Vacc', 'Tloss', 'Vloss']  # 'lr', 'gb_td', 'grad_bias',\n",
    "fig_name = 'figs_nuq/mnist.png'\n",
    "lg_tags = ['estim_sgd', 'nuq_method', 'ngpu']  # , 'ngpu', 'bits', 'mul', 'bucket_size'\n",
    "ylim = [None]*20\n",
    "# ylim = [None]*2 + [[80, 100], [80, 100], [1e-7, 1], None]\n",
    "# ylim = [[.2e-4, 1e-4], [0, 1.5e-7], [-1, 0.1], None, [98, 100], [98, 100], None, None]\n",
    "# ylim = [[1e-4, 1e-1], [1e-2, 1e-1], [98, 100], [97,100], [0, 100], None, None, None, None, None, None, None, None, None, None, None, None]\n",
    "sep_h = True\n",
    "ncolor = 4\n",
    "lg_replace = [('estim_sgd', 'SGD'), ('ngpu_', ',GPU='), ('nuq_method', ''), ('_q', 'Q'), ('_nuq', 'NUQ'), ('_qinf', 'Qinf'), ('kfac', 'K-FAC'), ('SGD,K-FAC', 'K-FAC'), ('estim_ntk', 'NTK'), ('adamw', 'AdamW'), ('adam', 'Adam'), ('lr_', 'LR='), ('LR=0.001', 'LR=1e-3'), ('LR=0.0001', 'LR=1e-4'), ('LR=0.0005', 'LR=5e-4'), ('LR=0.0002', 'LR=2e-4'), ('batch_size_', 'bs='), ('optim_start_', 'Start='), ('damping_', '$\\epsilon=$')]\n",
    "data, run_names = plot_runs_and_tags(get_data_f, plot_f, logdir, patterns, tag_names, fig_name, lg_tags, ylim, sep_h=sep_h, ncolor=ncolor, lg_replace=lg_replace)"
   ]
  },
  {
   "cell_type": "markdown",
   "metadata": {},
   "source": [
    "# cifar10 first epoch"
   ]
  },
  {
   "cell_type": "code",
   "execution_count": 12,
   "metadata": {},
   "outputs": [],
   "source": [
    "get_data_f = get_data_pth\n",
    "# plot_f = plt.plot\n",
    "plot_f = plot_smooth_o1\n",
    "logdir = '/u/faghri/nuq/runs/'\n",
    "patterns = ['.*runs_cifar10_first_epoch/(00|.*bucket_size_8192)']  # (?!.*scheduler)\n",
    "tag_names = ['est_var', 'est_nvar', 'Tacc', 'Vacc', 'Tloss', 'Vloss', 'loss']  # 'lr', 'gb_td', 'grad_bias',\n",
    "fig_name = 'figs_nuq/cifar10.png'\n",
    "lg_tags = ['estim_sgd', 'nuq_method']  # , 'ngpu', 'bits', 'mul', 'bucket_size'\n",
    "ylim = [None]*20\n",
    "# ylim = [None]*2 + [[80, 100], [80, 100], [1e-7, 1], None]\n",
    "# ylim = [[.2e-4, 1e-4], [0, 1.5e-7], [-1, 0.1], None, [98, 100], [98, 100], None, None]\n",
    "# ylim = [[1e-4, 1e-1], [1e-2, 1e-1], [98, 100], [97,100], [0, 100], None, None, None, None, None, None, None, None, None, None, None, None]\n",
    "sep_h = True\n",
    "ncolor = 4\n",
    "lg_replace = [('estim_sgd', 'SGD'), ('ngpu_', ',GPU='), ('nuq_method', ''), ('_q', 'QSGD'), ('_nuq', 'NUQSGD'), ('_qinf', 'QinfSGD'), ('kfac', 'K-FAC'), ('SGD,K-FAC', 'K-FAC'), ('estim_ntk', 'NTK'), ('adamw', 'AdamW'), ('adam', 'Adam'), ('lr_', 'LR='), ('LR=0.001', 'LR=1e-3'), ('LR=0.0001', 'LR=1e-4'), ('LR=0.0005', 'LR=5e-4'), ('LR=0.0002', 'LR=2e-4'), ('batch_size_', 'bs='), ('optim_start_', 'Start='), ('damping_', '$\\epsilon=$'), (',,', ','), (',$', '')]\n",
    "data, run_names = plot_runs_and_tags(get_data_f, plot_f, logdir, patterns, tag_names, fig_name, lg_tags, ylim, sep_h=sep_h, ncolor=ncolor, lg_replace=lg_replace, save_single=save_single, no_title=no_title)"
   ]
  },
  {
   "cell_type": "code",
   "execution_count": 13,
   "metadata": {},
   "outputs": [],
   "source": [
    "get_data_f = get_data_pth\n",
    "# plot_f = plt.plot\n",
    "plot_f = plot_smooth_o1\n",
    "logdir = '/h/iman/Code/nuqsgd/runs2'\n",
    "patterns = ['.*runs_cifar10_full/(00|.*bucket_size_8192)']  # (?!.*scheduler)\n",
    "tag_names = ['est_var', 'est_nvar', 'Tacc', 'Vacc', 'Tloss', 'Vloss', 'loss']  # 'lr', 'gb_td', 'grad_bias',\n",
    "fig_name = 'figs_nuq/cifar10.png'\n",
    "lg_tags = ['estim_sgd', 'nuq_method']  # , 'ngpu', 'bits', 'mul', 'bucket_size'\n",
    "ylim = [None]*20\n",
    "# ylim = [None]*2 + [[80, 100], [80, 100], [1e-7, 1], None]\n",
    "# ylim = [[.2e-4, 1e-4], [0, 1.5e-7], [-1, 0.1], None, [98, 100], [98, 100], None, None]\n",
    "# ylim = [[1e-4, 1e-1], [1e-2, 1e-1], [98, 100], [97,100], [0, 100], None, None, None, None, None, None, None, None, None, None, None, None]\n",
    "sep_h = True\n",
    "ncolor = 4\n",
    "lg_replace = [('estim_sgd', 'SGD'), ('ngpu_', ',GPU='), ('nuq_method', ''), ('_q', 'QSGD'), ('_nuq', 'NUQSGD'), ('_qinf', 'QinfSGD'), ('kfac', 'K-FAC'), ('SGD,K-FAC', 'K-FAC'), ('estim_ntk', 'NTK'), ('adamw', 'AdamW'), ('adam', 'Adam'), ('lr_', 'LR='), ('LR=0.001', 'LR=1e-3'), ('LR=0.0001', 'LR=1e-4'), ('LR=0.0005', 'LR=5e-4'), ('LR=0.0002', 'LR=2e-4'), ('batch_size_', 'bs='), ('optim_start_', 'Start='), ('damping_', '$\\epsilon=$'), (',,', ','), (',$', '')]\n",
    "data, run_names = plot_runs_and_tags(get_data_f, plot_f, logdir, patterns, tag_names, fig_name, lg_tags, ylim, sep_h=sep_h, ncolor=ncolor, lg_replace=lg_replace, save_single=save_single, no_title=no_title)"
   ]
  },
  {
   "cell_type": "code",
   "execution_count": 14,
   "metadata": {},
   "outputs": [
    {
     "data": {
      "text/plain": [
       "<function log_plotter.get_data_pth(logdir, run_names, tag_names, batch_size=None)>"
      ]
     },
     "execution_count": 14,
     "metadata": {},
     "output_type": "execute_result"
    }
   ],
   "source": [
    "get_data_f"
   ]
  },
  {
   "cell_type": "markdown",
   "metadata": {},
   "source": [
    "# imagenet last epoch"
   ]
  },
  {
   "cell_type": "code",
   "execution_count": 15,
   "metadata": {},
   "outputs": [],
   "source": [
    "get_data_f = get_data_pth\n",
    "# plot_f = plt.plot\n",
    "plot_f = plot_smooth_o1\n",
    "logdir = '/u/faghri/nuq/runs/'\n",
    "patterns = ['.*runs_imagenet_last_epoch/.*batch_size_128']  # (?!.*scheduler)\n",
    "tag_names = ['est_var', 'est_nvar', 'loss', 'Vloss', 'Vacc']  # 'lr', 'gb_td', 'grad_bias',\n",
    "fig_name = 'figs_nuq/imagenet_last.png'\n",
    "lg_tags = ['estim_sgd', 'nuq_method']  # , 'ngpu', 'bits', 'mul', 'bucket_size'\n",
    "ylim = [None]*20\n",
    "# ylim = [None]*2 + [[80, 100], [80, 100], [1e-7, 1], None]\n",
    "# ylim = [[.2e-4, 1e-4], [0, 1.5e-7], [-1, 0.1], None, [98, 100], [98, 100], None, None]\n",
    "# ylim = [[1e-4, 1e-1], [1e-2, 1e-1], [98, 100], [97,100], [0, 100], None, None, None, None, None, None, None, None, None, None, None, None]\n",
    "sep_h = True\n",
    "ncolor = 4\n",
    "lg_replace = [('estim_sgd', 'SGD'), ('ngpu_', ',GPU='), ('nuq_method', ''), ('_q', 'QSGD'), ('_nuq', 'NUQSGD'), ('_qinf', 'QinfSGD'), ('kfac', 'K-FAC'), ('SGD,K-FAC', 'K-FAC'), ('estim_ntk', 'NTK'), ('adamw', 'AdamW'), ('adam', 'Adam'), ('lr_', 'LR='), ('LR=0.001', 'LR=1e-3'), ('LR=0.0001', 'LR=1e-4'), ('LR=0.0005', 'LR=5e-4'), ('LR=0.0002', 'LR=2e-4'), ('batch_size_', 'bs='), ('optim_start_', 'Start='), ('damping_', '$\\epsilon=$'), (',,', ','), (',$', '')]\n",
    "data, run_names = plot_runs_and_tags(get_data_f, plot_f, logdir, patterns, tag_names, fig_name, lg_tags, ylim, sep_h=sep_h, ncolor=ncolor, lg_replace=lg_replace, save_single=save_single, no_title=no_title)"
   ]
  },
  {
   "cell_type": "markdown",
   "metadata": {},
   "source": [
    "## batch size 64"
   ]
  },
  {
   "cell_type": "code",
   "execution_count": 16,
   "metadata": {},
   "outputs": [],
   "source": [
    "get_data_f = get_data_pth\n",
    "# plot_f = plt.plot\n",
    "plot_f = plot_smooth_o1\n",
    "logdir = '/u/faghri/nuq/runs/'\n",
    "patterns = ['.*runs_imagenet_last_epoch/.*batch_size_64']  # (?!.*scheduler)\n",
    "tag_names = ['est_var', 'est_nvar', 'loss', 'Vloss', 'Vacc']  # 'lr', 'gb_td', 'grad_bias',\n",
    "fig_name = 'figs_nuq/imagenet_last_bs64.png'\n",
    "lg_tags = ['estim_sgd', 'nuq_method', 'ngpu']  # , 'ngpu', 'bits', 'mul', 'bucket_size'\n",
    "ylim = [None]*20\n",
    "# ylim = [None]*2 + [[80, 100], [80, 100], [1e-7, 1], None]\n",
    "# ylim = [[.2e-4, 1e-4], [0, 1.5e-7], [-1, 0.1], None, [98, 100], [98, 100], None, None]\n",
    "# ylim = [[1e-4, 1e-1], [1e-2, 1e-1], [98, 100], [97,100], [0, 100], None, None, None, None, None, None, None, None, None, None, None, None]\n",
    "sep_h = True\n",
    "ncolor = 4\n",
    "lg_replace = [('estim_sgd', 'SGD'), ('ngpu_', ',GPU='), ('nuq_method', ''), ('_q', 'Q'), ('_nuq', 'NUQ'), ('_qinf', 'Qinf'), ('kfac', 'K-FAC'), ('SGD,K-FAC', 'K-FAC'), ('estim_ntk', 'NTK'), ('adamw', 'AdamW'), ('adam', 'Adam'), ('lr_', 'LR='), ('LR=0.001', 'LR=1e-3'), ('LR=0.0001', 'LR=1e-4'), ('LR=0.0005', 'LR=5e-4'), ('LR=0.0002', 'LR=2e-4'), ('batch_size_', 'bs='), ('optim_start_', 'Start='), ('damping_', '$\\epsilon=$'), (',,', ','), (',$', '')]\n",
    "data, run_names = plot_runs_and_tags(get_data_f, plot_f, logdir, patterns, tag_names, fig_name, lg_tags, ylim, sep_h=sep_h, ncolor=ncolor, lg_replace=lg_replace, save_single=save_single, no_title=no_title)"
   ]
  },
  {
   "cell_type": "markdown",
   "metadata": {},
   "source": [
    "## batch size 256"
   ]
  },
  {
   "cell_type": "code",
   "execution_count": 17,
   "metadata": {},
   "outputs": [],
   "source": [
    "get_data_f = get_data_pth\n",
    "# plot_f = plt.plot\n",
    "plot_f = plot_smooth_o1\n",
    "logdir = '/u/faghri/nuq/runs/'\n",
    "patterns = ['.*runs_imagenet_last_epoch/.*batch_size_256']  # (?!.*scheduler)\n",
    "tag_names = ['est_var', 'est_nvar', 'loss', 'Vloss', 'Vacc']  # 'lr', 'gb_td', 'grad_bias',\n",
    "fig_name = 'figs_nuq/imagenet_last_bs256.png'\n",
    "lg_tags = ['estim_sgd', 'nuq_method']  # , 'ngpu', 'bits', 'mul', 'bucket_size'\n",
    "ylim = [None]*20\n",
    "# ylim = [None]*2 + [[80, 100], [80, 100], [1e-7, 1], None]\n",
    "# ylim = [[.2e-4, 1e-4], [0, 1.5e-7], [-1, 0.1], None, [98, 100], [98, 100], None, None]\n",
    "# ylim = [[1e-4, 1e-1], [1e-2, 1e-1], [98, 100], [97,100], [0, 100], None, None, None, None, None, None, None, None, None, None, None, None]\n",
    "sep_h = True\n",
    "ncolor = 4\n",
    "lg_replace = [('estim_sgd', 'SGD'), ('ngpu_', ',GPU='), ('nuq_method', ''), ('_q', 'QSGD'), ('_nuq', 'NUQSGD'), ('_qinf', 'QinfSGD'), ('kfac', 'K-FAC'), ('SGD,K-FAC', 'K-FAC'), ('estim_ntk', 'NTK'), ('adamw', 'AdamW'), ('adam', 'Adam'), ('lr_', 'LR='), ('LR=0.001', 'LR=1e-3'), ('LR=0.0001', 'LR=1e-4'), ('LR=0.0005', 'LR=5e-4'), ('LR=0.0002', 'LR=2e-4'), ('batch_size_', 'bs='), ('optim_start_', 'Start='), ('damping_', '$\\epsilon=$'), (',,', ','), (',$', '')]\n",
    "data, run_names = plot_runs_and_tags(get_data_f, plot_f, logdir, patterns, tag_names, fig_name, lg_tags, ylim, sep_h=sep_h, ncolor=ncolor, lg_replace=lg_replace, save_single=save_single, no_title=no_title)"
   ]
  },
  {
   "cell_type": "markdown",
   "metadata": {},
   "source": [
    "nans in QSGD"
   ]
  },
  {
   "cell_type": "markdown",
   "metadata": {},
   "source": [
    "# imagenet first epoch"
   ]
  },
  {
   "cell_type": "code",
   "execution_count": 18,
   "metadata": {},
   "outputs": [],
   "source": [
    "get_data_f = get_data_pth\n",
    "# plot_f = plt.plot\n",
    "plot_f = plot_smooth_o1\n",
    "logdir = '/u/faghri/nuq/runs/'\n",
    "patterns = ['.*runs_imagenet_first_epoch/.*batch_size_128']  # (?!.*scheduler)\n",
    "tag_names = ['est_var', 'est_nvar', 'loss', 'Vloss', 'Vacc']  # 'lr', 'gb_td', 'grad_bias',\n",
    "fig_name = 'figs_nuq/imagenet_first.png'\n",
    "lg_tags = ['estim_sgd', 'nuq_method']  # , 'ngpu', 'bits', 'mul', 'bucket_size'\n",
    "ylim = [None]*20\n",
    "# ylim = [None]*2 + [[80, 100], [80, 100], [1e-7, 1], None]\n",
    "# ylim = [[.2e-4, 1e-4], [0, 1.5e-7], [-1, 0.1], None, [98, 100], [98, 100], None, None]\n",
    "# ylim = [[1e-4, 1e-1], [1e-2, 1e-1], [98, 100], [97,100], [0, 100], None, None, None, None, None, None, None, None, None, None, None, None]\n",
    "sep_h = True\n",
    "ncolor = 4\n",
    "lg_replace = [('estim_sgd', 'SGD'), ('ngpu_', ',GPU='), ('nuq_method', ''), ('_q', 'QSGD'), ('_nuq', 'NUQSGD'), ('_qinf', 'QinfSGD'), ('kfac', 'K-FAC'), ('SGD,K-FAC', 'K-FAC'), ('estim_ntk', 'NTK'), ('adamw', 'AdamW'), ('adam', 'Adam'), ('lr_', 'LR='), ('LR=0.001', 'LR=1e-3'), ('LR=0.0001', 'LR=1e-4'), ('LR=0.0005', 'LR=5e-4'), ('LR=0.0002', 'LR=2e-4'), ('batch_size_', 'bs='), ('optim_start_', 'Start='), ('damping_', '$\\epsilon=$'), (',,', ','), (',$', '')]\n",
    "data, run_names = plot_runs_and_tags(get_data_f, plot_f, logdir, patterns, tag_names, fig_name, lg_tags, ylim, sep_h=sep_h, ncolor=ncolor, lg_replace=lg_replace, save_single=save_single, no_title=no_title)"
   ]
  },
  {
   "cell_type": "markdown",
   "metadata": {},
   "source": [
    "## batch size 64"
   ]
  },
  {
   "cell_type": "code",
   "execution_count": 19,
   "metadata": {},
   "outputs": [],
   "source": [
    "get_data_f = get_data_pth\n",
    "# plot_f = plt.plot\n",
    "plot_f = plot_smooth_o1\n",
    "logdir = '/u/faghri/nuq/runs/'\n",
    "patterns = ['.*runs_imagenet_first_epoch/.*batch_size_64']  # (?!.*scheduler)\n",
    "tag_names = ['est_var', 'est_nvar', 'loss', 'Vloss', 'Vacc']  # 'lr', 'gb_td', 'grad_bias',\n",
    "fig_name = 'figs_nuq/imagenet_first_bs64.png'\n",
    "lg_tags = ['estim_sgd', 'nuq_method', 'ngpu']  # , 'ngpu', 'bits', 'mul', 'bucket_size'\n",
    "ylim = [None]*20\n",
    "# ylim = [None]*2 + [[80, 100], [80, 100], [1e-7, 1], None]\n",
    "# ylim = [[.2e-4, 1e-4], [0, 1.5e-7], [-1, 0.1], None, [98, 100], [98, 100], None, None]\n",
    "# ylim = [[1e-4, 1e-1], [1e-2, 1e-1], [98, 100], [97,100], [0, 100], None, None, None, None, None, None, None, None, None, None, None, None]\n",
    "sep_h = True\n",
    "ncolor = 4\n",
    "lg_replace = [('estim_sgd', 'SGD'), ('ngpu_', ',GPU='), ('nuq_method', ''), ('_q', 'Q'), ('_nuq', 'NUQ'), ('_qinf', 'Qinf'), ('kfac', 'K-FAC'), ('SGD,K-FAC', 'K-FAC'), ('estim_ntk', 'NTK'), ('adamw', 'AdamW'), ('adam', 'Adam'), ('lr_', 'LR='), ('LR=0.001', 'LR=1e-3'), ('LR=0.0001', 'LR=1e-4'), ('LR=0.0005', 'LR=5e-4'), ('LR=0.0002', 'LR=2e-4'), ('batch_size_', 'bs='), ('optim_start_', 'Start='), ('damping_', '$\\epsilon=$')]\n",
    "data, run_names = plot_runs_and_tags(get_data_f, plot_f, logdir, patterns, tag_names, fig_name, lg_tags, ylim, sep_h=sep_h, ncolor=ncolor, lg_replace=lg_replace)"
   ]
  }
 ],
 "metadata": {
  "kernelspec": {
   "display_name": "Python 3",
   "language": "python",
   "name": "python3"
  },
  "language_info": {
   "codemirror_mode": {
    "name": "ipython",
    "version": 3
   },
   "file_extension": ".py",
   "mimetype": "text/x-python",
   "name": "python",
   "nbconvert_exporter": "python",
   "pygments_lexer": "ipython3",
   "version": "3.7.6"
  }
 },
 "nbformat": 4,
 "nbformat_minor": 2
}

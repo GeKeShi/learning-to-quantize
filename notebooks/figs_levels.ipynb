{
 "cells": [
  {
   "cell_type": "code",
   "execution_count": 2,
   "metadata": {},
   "outputs": [],
   "source": [
    "import sys\n",
    "sys.path.append('../')"
   ]
  },
  {
   "cell_type": "code",
   "execution_count": 3,
   "metadata": {},
   "outputs": [],
   "source": [
    "%load_ext autoreload\n",
    "%autoreload 1"
   ]
  },
  {
   "cell_type": "code",
   "execution_count": 16,
   "metadata": {},
   "outputs": [],
   "source": [
    "%aimport log_plotter\n",
    "from log_plotter import get_accuracies, get_levels, plot_levels"
   ]
  },
  {
   "cell_type": "code",
   "execution_count": 5,
   "metadata": {},
   "outputs": [],
   "source": [
    "logdir = '/h/iman/Code/nuqsgd/runs'\n",
    "lg_tags = ['estim_sgd', 'nuq_method', 'nuq_sym', 'nuq_inv','nuq_mul']  # , 'ngpu', 'bits', 'mul', 'bucket_size'\n",
    "orders = ['SuperSGD', 'ALQ-N', 'AMQ-N', 'Qinf', 'TRN', 'NUQ,p=0.5', 'SGD', 'ALQ', 'AMQ']\n",
    "lg_replace = [('p2_', 'P='), ('estim_sgd', 'SGD'), ('nuq_mul_', 'p='), ('nuq_bucket_size_', 'BS='), ('ngpu_', 'GPU='), ('nuq_method', ''), ('_q', 'Q'), ('nuq_inv_', 'Inv'), ('nuq_sym_', 'Sym'), ('_amq_nb', 'AMQ'), ('_amq', 'AMQ-N'), ('_alq_nb', 'ALQ'), ('_trn', 'TRN'), ('_alq', 'ALQ-N'), ('_qinf', 'Qinf'), ('kfac', 'K-FAC'), ('SGD,K-FAC', 'K-FAC'), ('estim_ntk', 'NTK'), ('adamw', 'AdamW'), ('adam', 'Adam'), ('lr_', 'LR='), ('LR=0.001', 'LR=1e-3'), ('LR=0.0001', 'LR=1e-4'), ('LR=0.0005', 'LR=5e-4'), ('LR=0.0002', 'LR=2e-4'), ('batch_size_', 'bs='), ('optim_start_', 'Start='), ('damping_', '$\\epsilon=$'), ('_l2q', 'L2Q'), ('_none', 'SuperSGD'), ('nuq_layer_1', 'w/o layers'), ('nuq_layer_0', 'w/ layers'),('_nuq', 'NUQ')]\n",
    "tag_names = ['est_var', 'nb_error', 'Vloss', 'Tloss', 'Vacc']"
   ]
  },
  {
   "cell_type": "code",
   "execution_count": null,
   "metadata": {},
   "outputs": [],
   "source": []
  },
  {
   "cell_type": "code",
   "execution_count": 12,
   "metadata": {},
   "outputs": [],
   "source": [
    "def format_levels(unf_levels):\n",
    "    reformed_levels = {}\n",
    "    for key, vals in unf_levels.items():\n",
    "        for method in vals[0]:\n",
    "            # sample data ((0.0, 76.3499984741211), 'NUQ')\n",
    "            method_name = method[1]\n",
    "            value = method[0]\n",
    "\n",
    "            if method_name not in list(reformed_levels):\n",
    "                reformed_levels[method_name] = [value]\n",
    "            else:\n",
    "                reformed_levels[method_name].append(value)\n",
    "    return reformed_levels"
   ]
  },
  {
   "cell_type": "markdown",
   "metadata": {},
   "source": [
    "# ResNet-32"
   ]
  },
  {
   "cell_type": "code",
   "execution_count": 33,
   "metadata": {},
   "outputs": [],
   "source": [
    "patterns = ['.*runs_cifar10_full/.*(f23|r2)_(000.*estim_sgd|037.*nuq_method_none.*|.*resnet32.*nuq_bits_3.*nuq_bucket_size_16.*,(?!(.*nuq_sym.*|.*nuq_inv)))'] # resnet110 for paper\n",
    "levels = get_levels(patterns, lg_replace, lg_tags, logdir, 8)"
   ]
  },
  {
   "cell_type": "code",
   "execution_count": 50,
   "metadata": {},
   "outputs": [
    {
     "name": "stdout",
     "output_type": "stream",
     "text": [
      "OrderedDict([('ALQ', [-1.0, -0.13037915527820587, -0.018461534380912782, -0.00508661475032568, 0.0046255383640527725, 0.017798911780118942, 0.12570485472679138, 1.0]), ('ALQ-N', [-1.0, -0.12515452206134797, -0.017935097590088843, -0.00487457774579525, 0.0047873626463115215, 0.01783512905240059, 0.12379290908575058, 1.0]), ('AMQ', [-1.0, -0.23219155371189118, -0.05391341000795365, -0.01265745423734188, 0.01265745423734188, 0.05431222543120384, 0.23304982483386993, 1.0]), ('AMQ-N', [-1.0, -0.23163762986660003, -0.05365607142448425, -0.012483714148402214, 0.012483714148402214, 0.05381407588720322, 0.2319786101579666, 1.0]), ('NUQ,p=0.5', [-1.0, -0.5, -0.25, -0.125, 0.125, 0.25, 0.5, 1.0]), ('Qinf', [-1.0, -0.7142857313156128, -0.4285714328289032, -0.1428571492433548, 0.1428571492433548, 0.4285714328289032, 0.7142857313156128, 1.0]), ('TRN', [-1.0, 0.0, 1.0])])\n",
      "['ALQ', 'AMQ', 'ALQ-N', 'AMQ-N', 'Qinf', 'TRN', 'NUQ,p=0.5']\n"
     ]
    },
    {
     "data": {
      "image/png": "[encoded data removed]",
      "text/plain": [
       "<Figure size 432x288 with 1 Axes>"
      ]
     },
     "metadata": {
      "needs_background": "light"
     },
     "output_type": "display_data"
    }
   ],
   "source": [
    "plot_levels(format_levels(levels), 'resnet-32')"
   ]
  },
  {
   "cell_type": "markdown",
   "metadata": {},
   "source": [
    "# ResNet-110"
   ]
  },
  {
   "cell_type": "code",
   "execution_count": 36,
   "metadata": {},
   "outputs": [
    {
     "name": "stdout",
     "output_type": "stream",
     "text": [
      "======= Vacc ========\n",
      "90.97\\% & $\\pm$ & 0.01\n",
      "90.95\\% & $\\pm$ & 0.06\n",
      "91.02\\% & $\\pm$ & 0.03\n",
      "89.53\\% & $\\pm$ & 0.05\n",
      "84.55\\% & $\\pm$ & 0.05\n",
      "86.65\\% & $\\pm$ & 0.08\n",
      "91.16\\% & $\\pm$ & 0.04\n",
      "91.05\\% & $\\pm$ & 0.05\n",
      "88.75\\% & $\\pm$ & 0.04\n",
      "======= Tacc ========\n",
      "100.00\\% & $\\pm$ & 0.01\n",
      "99.99\\% & $\\pm$ & 0.00\n",
      "99.99\\% & $\\pm$ & 0.00\n",
      "99.99\\% & $\\pm$ & 0.00\n",
      "89.22\\% & $\\pm$ & 0.08\n",
      "99.87\\% & $\\pm$ & 0.01\n",
      "99.97\\% & $\\pm$ & 0.01\n",
      "100.00\\% & $\\pm$ & 0.00\n",
      "99.95\\% & $\\pm$ & 0.01\n"
     ]
    }
   ],
   "source": [
    "patterns = ['.*runs_cifar10_full/.*(f21|r2)_(000.*estim_sgd|037.*nuq_method_none.*|.*resnet110.*nuq_bits_3.*nuq_bucket_size_16.*,(?!(.*nuq_sym.*|.*nuq_inv)))'] # resnet110 for paper\n",
    "acc = get_accuracies(patterns, lg_replace, lg_tags, logdir, latex=True, notitle=True)"
   ]
  }
 ],
 "metadata": {
  "kernelspec": {
   "display_name": "Python 3",
   "language": "python",
   "name": "python3"
  },
  "language_info": {
   "codemirror_mode": {
    "name": "ipython",
    "version": 3
   },
   "file_extension": ".py",
   "mimetype": "text/x-python",
   "name": "python",
   "nbconvert_exporter": "python",
   "pygments_lexer": "ipython3",
   "version": "3.7.6"
  }
 },
 "nbformat": 4,
 "nbformat_minor": 4
}
